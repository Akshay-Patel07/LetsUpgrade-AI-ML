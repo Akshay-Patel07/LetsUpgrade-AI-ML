{
 "cells": [
  {
   "cell_type": "markdown",
   "metadata": {},
   "source": [
    "__GIT HUB__\n",
    "\n",
    "The Uploading of the assignments is done in Git Hub by just siginig Up if you are a new user.If you already have an account login to the account and create the new repsoitory.The name of the repsoitory should be LetsUpgrade-AI-ML. The description is Assignmnets and just create repository.\n",
    "After that upload the existing file that is assigments done of the particular day. Upload the file and click onto the Commit Changes.Open the file that is Uploaded and copy the URL of the particular page .Later submit or copy the GitHub URL in the drive of LetsUpgrade website."
   ]
  },
  {
   "cell_type": "code",
   "execution_count": null,
   "metadata": {},
   "outputs": [],
   "source": []
  },
  {
   "cell_type": "code",
   "execution_count": null,
   "metadata": {},
   "outputs": [],
   "source": []
  }
 ],
 "metadata": {
  "kernelspec": {
   "display_name": "Python 3",
   "language": "python",
   "name": "python3"
  },
  "language_info": {
   "codemirror_mode": {
    "name": "ipython",
    "version": 3
   },
   "file_extension": ".py",
   "mimetype": "text/x-python",
   "name": "python",
   "nbconvert_exporter": "python",
   "pygments_lexer": "ipython3",
   "version": "3.6.4"
  }
 },
 "nbformat": 4,
 "nbformat_minor": 2
}
