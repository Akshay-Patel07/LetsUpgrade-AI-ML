{
 "cells": [
  {
   "cell_type": "code",
   "execution_count": 4,
   "metadata": {},
   "outputs": [
    {
     "name": "stdout",
     "output_type": "stream",
     "text": [
      "Emter the number x4\n",
      "Enter the number y3\n",
      "before temp variable\n",
      "x= 4\n",
      "y= 3\n",
      "After temp variable\n",
      "x= 3\n",
      "y= 4\n"
     ]
    }
   ],
   "source": [
    "x=int(input(\"Emter the number x\"))\n",
    "y=int(input(\"Enter the number y\"))\n",
    "print(\"before temp variable\")\n",
    "print('x=',x)\n",
    "print('y=',y)\n",
    "temp=x\n",
    "x=y\n",
    "y=temp\n",
    "print(\"After temp variable\")\n",
    "print('x=',x)\n",
    "print('y=',y)\n"
   ]
  },
  {
   "cell_type": "code",
   "execution_count": null,
   "metadata": {},
   "outputs": [],
   "source": []
  }
 ],
 "metadata": {
  "kernelspec": {
   "display_name": "Python 3",
   "language": "python",
   "name": "python3"
  },
  "language_info": {
   "codemirror_mode": {
    "name": "ipython",
    "version": 3
   },
   "file_extension": ".py",
   "mimetype": "text/x-python",
   "name": "python",
   "nbconvert_exporter": "python",
   "pygments_lexer": "ipython3",
   "version": "3.6.4"
  }
 },
 "nbformat": 4,
 "nbformat_minor": 2
}
