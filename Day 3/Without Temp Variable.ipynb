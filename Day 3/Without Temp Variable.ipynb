{
 "cells": [
  {
   "cell_type": "code",
   "execution_count": 1,
   "metadata": {},
   "outputs": [
    {
     "name": "stdout",
     "output_type": "stream",
     "text": [
      "Enter the variables\n",
      "enter the value a5\n",
      "enter the value b6\n",
      "Before Swapping\n",
      "a= 5\n",
      "b= 6\n",
      "After Swapping without temp\n",
      "a= 6\n",
      "b= 5\n"
     ]
    }
   ],
   "source": [
    "print(\"Enter the variables\")\n",
    "a=int(input(\"enter the value a\"))\n",
    "b=int(input(\"enter the value b\"))\n",
    "print(\"Before Swapping\")\n",
    "print('a=',a)\n",
    "print('b=',b)\n",
    "a=a+b\n",
    "b=a-b\n",
    "a=a-b\n",
    "print(\"After Swapping without temp\")\n",
    "print('a=',a)\n",
    "print('b=',b)"
   ]
  },
  {
   "cell_type": "code",
   "execution_count": null,
   "metadata": {},
   "outputs": [],
   "source": []
  }
 ],
 "metadata": {
  "kernelspec": {
   "display_name": "Python 3",
   "language": "python",
   "name": "python3"
  },
  "language_info": {
   "codemirror_mode": {
    "name": "ipython",
    "version": 3
   },
   "file_extension": ".py",
   "mimetype": "text/x-python",
   "name": "python",
   "nbconvert_exporter": "python",
   "pygments_lexer": "ipython3",
   "version": "3.6.4"
  }
 },
 "nbformat": 4,
 "nbformat_minor": 2
}
