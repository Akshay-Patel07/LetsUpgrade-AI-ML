{
 "cells": [
  {
   "cell_type": "code",
   "execution_count": 5,
   "metadata": {},
   "outputs": [
    {
     "name": "stdout",
     "output_type": "stream",
     "text": [
      "Enter the two complex numbers\n",
      "Enter the real number3\n",
      "Enter the img number2\n",
      "enter the real number1\n",
      "Enter the img number2\n",
      "the real part is\n",
      "2.0\n",
      "the img part is \n",
      "0.0\n"
     ]
    }
   ],
   "source": [
    "import cmath\n",
    "print(\"Enter the two complex numbers\")\n",
    "x=int(input(\"Enter the real number\"))\n",
    "y=int(input(\"Enter the img number\"))\n",
    "x1=int(input(\"enter the real number\"))\n",
    "y1=int(input(\"Enter the img number\"))\n",
    "z=complex(x,y)\n",
    "z1=complex(x1,y1)\n",
    "c=z.real-z1.real\n",
    "d=z.imag-z1.imag\n",
    "print(\"the real part is\")\n",
    "print(c)\n",
    "print('the img part is ')\n",
    "print(d)\n"
   ]
  },
  {
   "cell_type": "code",
   "execution_count": null,
   "metadata": {},
   "outputs": [],
   "source": []
  }
 ],
 "metadata": {
  "kernelspec": {
   "display_name": "Python 3",
   "language": "python",
   "name": "python3"
  },
  "language_info": {
   "codemirror_mode": {
    "name": "ipython",
    "version": 3
   },
   "file_extension": ".py",
   "mimetype": "text/x-python",
   "name": "python",
   "nbconvert_exporter": "python",
   "pygments_lexer": "ipython3",
   "version": "3.6.4"
  }
 },
 "nbformat": 4,
 "nbformat_minor": 2
}
