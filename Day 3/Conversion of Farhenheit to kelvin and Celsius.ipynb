{
 "cells": [
  {
   "cell_type": "code",
   "execution_count": 3,
   "metadata": {},
   "outputs": [
    {
     "name": "stdout",
     "output_type": "stream",
     "text": [
      "Conversion of Farhenheit to kelvin and Celsius\n",
      "Enter the farhenheit value 100\n",
      "Farhenheit to Kelvin is  311.27777777777777\n",
      "Farhenheit to celsius is 69.8\n"
     ]
    }
   ],
   "source": [
    "print(\"Conversion of Farhenheit to kelvin and Celsius\")\n",
    "F=int(input(\"Enter the farhenheit value \" ))\n",
    "k=273.5+((F-32)*(5/9))\n",
    "c=(F-32)+1.8\n",
    "print(\"Farhenheit to Kelvin is \",k)\n",
    "print(\"Farhenheit to celsius is\",c)"
   ]
  },
  {
   "cell_type": "code",
   "execution_count": null,
   "metadata": {},
   "outputs": [],
   "source": []
  }
 ],
 "metadata": {
  "kernelspec": {
   "display_name": "Python 3",
   "language": "python",
   "name": "python3"
  },
  "language_info": {
   "codemirror_mode": {
    "name": "ipython",
    "version": 3
   },
   "file_extension": ".py",
   "mimetype": "text/x-python",
   "name": "python",
   "nbconvert_exporter": "python",
   "pygments_lexer": "ipython3",
   "version": "3.6.4"
  }
 },
 "nbformat": 4,
 "nbformat_minor": 2
}
